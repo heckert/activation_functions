{
 "cells": [
  {
   "cell_type": "code",
   "execution_count": 39,
   "metadata": {},
   "outputs": [],
   "source": [
    "import numpy as np\n",
    "import matplotlib.pyplot as plt\n",
    "import matplotlib.ticker as ticker"
   ]
  },
  {
   "cell_type": "markdown",
   "metadata": {},
   "source": [
    "## Heaviside Step Function\n",
    "\n",
    "$$\n",
    "\\begin{align}\n",
    "    H(z) = \\begin{cases}\n",
    "      0 & \\text{if z < 0} \\\\\n",
    "      1 & \\text{if z $\\geq$ 0}\n",
    "    \\end{cases}\n",
    "\\end{align}\n",
    "$$"
   ]
  },
  {
   "cell_type": "code",
   "execution_count": 60,
   "metadata": {},
   "outputs": [],
   "source": [
    "def h(z):\n",
    "    if z < 0:\n",
    "        return 0\n",
    "    elif z >= 0:\n",
    "        return 1"
   ]
  },
  {
   "cell_type": "markdown",
   "metadata": {},
   "source": [
    "## Sigmoid\n",
    "$$\n",
    "\\begin{align}\n",
    "\\sigma(z) = \\frac{\\mathrm{1} }{\\mathrm{1} + e^{-z}}\n",
    "\\end{align}\n",
    "$$"
   ]
  },
  {
   "cell_type": "code",
   "execution_count": 61,
   "metadata": {},
   "outputs": [],
   "source": [
    "def sigmoid(z):\n",
    "    return 1 / (1 + np.e**(-z))"
   ]
  },
  {
   "cell_type": "markdown",
   "metadata": {},
   "source": [
    "## Rectified Linear Unit (ReLU)\n",
    "$$\n",
    "\\begin{align}\n",
    "  ReLU(z) = max(0, z)\n",
    "\\end{align}\n",
    "$$"
   ]
  },
  {
   "cell_type": "code",
   "execution_count": 62,
   "metadata": {},
   "outputs": [],
   "source": [
    "# relu\n",
    "def relu(z):\n",
    "    return np.max([0, z])"
   ]
  },
  {
   "cell_type": "markdown",
   "metadata": {},
   "source": [
    "## Hyperbolic Tangent (ReLU)\n",
    "$$\n",
    "\\begin{align}\n",
    "  tanh(z) = 2\\sigma(2z)-1\n",
    "\\end{align}\n",
    "$$"
   ]
  },
  {
   "cell_type": "code",
   "execution_count": 63,
   "metadata": {},
   "outputs": [],
   "source": [
    "# hyperbolic tangent\n",
    "def tanh(z):\n",
    "    return 2 * sigmoid(2*z) - 1"
   ]
  },
  {
   "cell_type": "markdown",
   "metadata": {},
   "source": [
    "## Plotting"
   ]
  },
  {
   "cell_type": "code",
   "execution_count": 43,
   "metadata": {},
   "outputs": [],
   "source": [
    "z = np.linspace(-5,5, 500)"
   ]
  },
  {
   "cell_type": "code",
   "execution_count": 44,
   "metadata": {},
   "outputs": [],
   "source": [
    "def mapper(function, array):\n",
    "    return list(map(function, array))"
   ]
  },
  {
   "cell_type": "code",
   "execution_count": 52,
   "metadata": {},
   "outputs": [
    {
     "data": {
      "image/png": "[encoded data removed]",
      "text/plain": [
       "<Figure size 432x288 with 1 Axes>"
      ]
     },
     "metadata": {
      "needs_background": "light"
     },
     "output_type": "display_data"
    }
   ],
   "source": [
    "fix, ax = plt.subplots()\n",
    "\n",
    "ax.plot(z, mapper(h, z), label='Heaviside step')\n",
    "ax.plot(z, mapper(sigmoid, z), label='Sigmoid')\n",
    "ax.plot(z, mapper(relu, z), label='ReLU')\n",
    "ax.plot(z, mapper(tanh, z), label='Tanh')\n",
    "\n",
    "ax.set_ylim(-1.05,1.05)\n",
    "ax.set_xlim(-5,5)\n",
    "ax.set_title('Common ANN Activation Functions')\n",
    "\n",
    "ax.yaxis.set_major_locator(ticker.MultipleLocator(.5))\n",
    "\n",
    "ax.grid()\n",
    "\n",
    "ax.legend()\n",
    "\n",
    "plt.savefig('activation_functions.svg')\n",
    "\n",
    "plt.show()"
   ]
  }
 ],
 "metadata": {
  "kernelspec": {
   "display_name": "Python 3",
   "language": "python",
   "name": "python3"
  },
  "language_info": {
   "codemirror_mode": {
    "name": "ipython",
    "version": 3
   },
   "file_extension": ".py",
   "mimetype": "text/x-python",
   "name": "python",
   "nbconvert_exporter": "python",
   "pygments_lexer": "ipython3",
   "version": "3.7.4"
  }
 },
 "nbformat": 4,
 "nbformat_minor": 4
}
